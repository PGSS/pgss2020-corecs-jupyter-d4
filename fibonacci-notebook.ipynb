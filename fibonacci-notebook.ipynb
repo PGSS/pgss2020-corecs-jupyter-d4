{
 "cells": [
  {
   "cell_type": "markdown",
   "metadata": {},
   "source": [
    "To solve any problem in programming, it is *always* recommended to start with a simple version of one's true problem, to make sure that one's understanding of the environment and problem itself is basically correct. The end of this Notebook will be a challenge to create a program to calculate a value that *could* be calculated by hand but would take quite a long time to do so. The grand problem is to calculate the 100th value of [the Fibonacci Sequence](https://en.wikipedia.org/wiki/Fibonacci_number), but we will start by illustrating the use of a `for` loop on a simpler problem: the summation of the integers from 1 to 4, inclusive."
   ]
  },
  {
   "cell_type": "code",
   "execution_count": 5,
   "metadata": {},
   "outputs": [
    {
     "name": "stdout",
     "output_type": "stream",
     "text": [
      "Expected result: 10\n",
      "Actual result: 10\n"
     ]
    }
   ],
   "source": [
    "# initialize sum to 0\n",
    "sum = 0\n",
    "\n",
    "# do indented code with each value of i in the [bracketed list] (viz. 1, 2, 3, 4)\n",
    "for i in [1, 2, 3, 4]:\n",
    "    \n",
    "    # sum is now sum + i\n",
    "    sum = sum + i\n",
    "\n",
    "# output expected result and actual result\n",
    "print(\"Expected result: 10\")\n",
    "\n",
    "# \"str\" converts a number to a printable string\n",
    "print(\"Actual result: \" + str(sum))"
   ]
  },
  {
   "cell_type": "markdown",
   "metadata": {},
   "source": [
    "The new programming element in the code above is the List. How a given Python program handles lists are what make that code truly Pythonic, or just code that happens to be written Python. Python is very list-centric and it has many shorthand ways of handling lists. For me, I like how it simplifies the concept of `for` loops. It easy to visualize how the code indented under the line with `for` in it is applied 4 times to 1, 2, 3 and 4. However, manually typing out `[1, 2, 3, 4]` is better than manually calculating most things, but it turns out there is a way to easily generate those lists of sequential numbers..."
   ]
  },
  {
   "cell_type": "code",
   "execution_count": 10,
   "metadata": {},
   "outputs": [
    {
     "name": "stdout",
     "output_type": "stream",
     "text": [
      "1\n",
      "2\n",
      "3\n",
      "4\n"
     ]
    }
   ],
   "source": [
    "for i in range(1, 5):\n",
    "    print(i)"
   ]
  },
  {
   "cell_type": "markdown",
   "metadata": {},
   "source": [
    "It's probably not completely obvious, but the explicit list in the first code snippet can be replaced with a `range(i, e)` function call in the code snippet directly above. For the `range` function, `i` is included in the range and `e` is the first element to be excluded when the range ends."
   ]
  },
  {
   "cell_type": "code",
   "execution_count": 11,
   "metadata": {},
   "outputs": [
    {
     "name": "stdout",
     "output_type": "stream",
     "text": [
      "Expected result: 10\n",
      "Actual result: 10\n"
     ]
    }
   ],
   "source": [
    "# initialize sum to 0\n",
    "sum = 0\n",
    "\n",
    "# do indented code with each value of i in the [bracketed list] (viz. 1, 2, 3, 4)\n",
    "for i in range(1, 5):\n",
    "    \n",
    "    # sum is now sum + i\n",
    "    sum = sum + i\n",
    "\n",
    "# output expected result and actual result\n",
    "print(\"Expected result: 10\")\n",
    "\n",
    "# \"str\" converts a number to a printable string\n",
    "print(\"Actual result: \" + str(sum))"
   ]
  },
  {
   "cell_type": "markdown",
   "metadata": {},
   "source": [
    "Now, we have a way to scale our `for` loops far enough to find the 100th Fibonacci number.\n",
    "\n",
    "For those who did read the Fibonacci Sequence Wikipedia article, the Fibonacci Sequence starts with only two numbers, zero and one. Every Fibonacci number after those is the sum of the two before. In Python List form:"
   ]
  },
  {
   "cell_type": "code",
   "execution_count": null,
   "metadata": {},
   "outputs": [],
   "source": [
    "seq_fib = [0, 1, 1, 2, 3, 5, 8]"
   ]
  },
  {
   "cell_type": "markdown",
   "metadata": {},
   "source": [
    "With this start, can you calculate the 100th Fibonacci number? It's much like the first code snippet in this Notebook, but you have to remember more than just one number (in the case of the first code snippet, `sum` is what needs to be remembered.)"
   ]
  },
  {
   "cell_type": "markdown",
   "metadata": {},
   "source": [
    "Jupyter Notebooks do have some helpful developer (IDE) features. You'll notice when you start writing code a few things:\n",
    "\n",
    "* Jupyter will auto-indent after a `for` line.\n",
    "* Jupyter will highlight parentheses that do have a counterpart in green.\n",
    "  * Viz. opening parentheses that are properly closed...\n",
    "* Jupyter will highlight parentheses that do not have a counterpart in red.\n",
    "* Jupyter will try to help with double quotes, but I don't think this is usually very helpful for me."
   ]
  },
  {
   "cell_type": "markdown",
   "metadata": {},
   "source": [
    "I recommend first copying and pasting the first code snippet in this Notebook into the cell below to begin. Next, consider what needs to be remembered for each loop."
   ]
  },
  {
   "cell_type": "code",
   "execution_count": null,
   "metadata": {},
   "outputs": [],
   "source": [
    "# TODO: paste summation code here\n",
    "# TODO: modify to remember enough to calculate the 100th Fibonacci number\n",
    "# NOTE: it's not hard to look up the 100th Fibonacci number, \n",
    "#       this can be used to see if your program is right!"
   ]
  }
 ],
 "metadata": {
  "kernelspec": {
   "display_name": "Python 3",
   "language": "python",
   "name": "python3"
  },
  "language_info": {
   "codemirror_mode": {
    "name": "ipython",
    "version": 3
   },
   "file_extension": ".py",
   "mimetype": "text/x-python",
   "name": "python",
   "nbconvert_exporter": "python",
   "pygments_lexer": "ipython3",
   "version": "3.7.6"
  }
 },
 "nbformat": 4,
 "nbformat_minor": 4
}
